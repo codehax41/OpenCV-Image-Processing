{
 "cells": [
  {
   "cell_type": "code",
   "execution_count": 2,
   "metadata": {},
   "outputs": [],
   "source": [
    "import cv2\n",
    "cap = cv2.VideoCapture(0)\n",
    "\n",
    "width=int(cap.get(cv2.CAP_PROP_FRAME_WIDTH))\n",
    "height=int(cap.get(cv2.CAP_PROP_FRAME_HEIGHT))\n",
    "#fourcc is a codec that write mp4 file\n",
    "writer = cv2.VideoWriter('my.mp4',cv2.VideoWriter_fourcc(*'DIVX'),\n",
    "                        20,(width,height)) #20 is fps\n",
    "#for mac *'xvid'\n",
    "while True:\n",
    "    ret, frame= cap.read()\n",
    "    \n",
    "    #for saving\n",
    "    writer.write(frame)\n",
    "    \n",
    "    #for gray\n",
    "    #gray=cv2.cvtColor(frame,cv2.COLOR_BGR2GRAY)\n",
    "    #else rgb\n",
    "    cv2.imshow('frame', frame)\n",
    "    if cv2.waitKey(1) & 0xFF == ord('q'):\n",
    "        break\n",
    "        \n",
    "cap.release()\n",
    "writer.release()\n",
    "cv2.destroyAllWindows()"
   ]
  },
  {
   "cell_type": "code",
   "execution_count": 6,
   "metadata": {},
   "outputs": [],
   "source": [
    "#Now using existing video file"
   ]
  },
  {
   "cell_type": "code",
   "execution_count": 3,
   "metadata": {},
   "outputs": [],
   "source": [
    "import time\n",
    "\n",
    "cap=cv2.VideoCapture('video_capture.mp4')\n",
    "if cap.isOpened()==False:\n",
    "    print('Error file not found or codec invalid')\n",
    "\n",
    "while cap.isOpened():\n",
    "    ret, frame= cap.read()\n",
    "    if ret == True:\n",
    "        #for human readable\n",
    "        #time.sleep(1/20) #as 20 fps recorded thats 1/20\n",
    "        cv2.imshow('frame', frame)\n",
    "        if cv2.waitKey(1) & 0xFF == ord('q'):\n",
    "            break\n",
    "    else:\n",
    "        break\n",
    "cap.release()\n",
    "cv2.destroyAllWindows()"
   ]
  },
  {
   "cell_type": "code",
   "execution_count": null,
   "metadata": {},
   "outputs": [],
   "source": []
  }
 ],
 "metadata": {
  "kernelspec": {
   "display_name": "Python 3",
   "language": "python",
   "name": "python3"
  },
  "language_info": {
   "codemirror_mode": {
    "name": "ipython",
    "version": 3
   },
   "file_extension": ".py",
   "mimetype": "text/x-python",
   "name": "python",
   "nbconvert_exporter": "python",
   "pygments_lexer": "ipython3",
   "version": "3.6.5"
  }
 },
 "nbformat": 4,
 "nbformat_minor": 2
}
